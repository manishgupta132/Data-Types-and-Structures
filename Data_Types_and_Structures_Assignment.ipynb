{
  "nbformat": 4,
  "nbformat_minor": 0,
  "metadata": {
    "colab": {
      "provenance": []
    },
    "kernelspec": {
      "name": "python3",
      "display_name": "Python 3"
    },
    "language_info": {
      "name": "python"
    }
  },
  "cells": [
    {
      "cell_type": "markdown",
      "source": [],
      "metadata": {
        "id": "56Z3ezVr57nc"
      }
    },
    {
      "cell_type": "markdown",
      "source": [
        " What are data structures, and why are they important?\n",
        "\n",
        " -> A data structure is a way of organizing and storing data in a computer so that it can be accessed and used efficiently. They are important because it can significantly impact the performance and efficiency of a program.\n",
        "\n",
        " Explain the difference between mutable and immutable data types with examples.\n",
        "\n",
        " -> Mutable data types are changeable which means they can be changed after creation.\n",
        " for eg : list, set, dictionary\n",
        " As we can add, remove or modify elements in these data types\n",
        "\n",
        " On the other hand, immutable data types can't be changed or modified after creation. For eg: string, integer, tuple, frozen set\n",
        "\n",
        " What are the main differences between lists and tuples in Python?\n",
        "\n",
        " -> Lists in Python are mutable which means in this elements can be added,removed or modified which is not possible in tuples.\n",
        "\n",
        " Describe how dictionaries store data.\n",
        "\n",
        " -> Dictionaries are data structure which stores data in key value pair. In this, keys are unique and immutable.\n",
        "\n",
        " For eg: my_dict = {1: \"apple\", 2: \"ball\", 3: \"cat\"}\n",
        "\n",
        " Why might you use a set instead of a list in Python?\n",
        "\n",
        " -> The major advantage of using a set, as opposed to a list, is that it has a highly optimized method for checking whether a specific element is contained in the set.\n",
        "\n",
        " What is a string in Python, and how is it different from a list?\n",
        "\n",
        " -> String is data structure which stores sequence of characters and can't be changed after creation. for eg : my_str = \"pwskills\"\n",
        "\n",
        " On the other hand, An ordered collection of items  that can be of any data type and can be modified as needed. For eg: my_list = [1, 2.5, \"applle\"]\n",
        "\n",
        "  How do tuples ensure data integrity in Python?\n",
        "\n",
        "  -> Tuples ensures data integrity in Python by allowing us to create immutable sequences of values which can be of any type. This characteristic makes tuples suitable for storing fixed collections of items where the data should not change.\n",
        "\n",
        "  What is a hash table, and how does it relate to dictionaries in Python?\n",
        "\n",
        "  -> A hash table is a data structure that maps keys to values efficiently by using a hash function to convert keys into an index, allowing for quick data retrieval. In Python, dictionaries utilize hash tables to store key-value pairs, where the key is hashed to determine the index for the corresponding value in the underlying data structure.\n",
        "\n",
        "   Can lists contain different data types in Python?\n",
        "\n",
        "   -> Yes, definitely lists can contain different data types in Python like integers, floats, strings, booleans, dictionaries etc .\n",
        "   For eg : my_list = [True, 3, 4.5, \"ball\"]\n",
        "\n",
        "  Explain why strings are immutable in Python.\n",
        "\n",
        "  -> strings are immutable, meaning that once a string is created, it cannot be changed. Any operation that appears to modify a string actually creates a new string object instead of modifying the original one.\n",
        "\n",
        "   For eg : my_str = \"Good\"\n",
        "            my_str += \"Morning!\" creates a new string \"Good Morning!\"\n",
        "            print(my_str) Output = \"Good Morning!\"\n",
        "\n",
        "   What advantages do dictionaries offer over lists for certain tasks?\n",
        "\n",
        "   -> Instead of sequential searching like lists (O(n)), dictionaries use hashing to directly access elements. Additionally, Dictionaries also prevent duplicate keys, ensuring data integrity.\n",
        "\n",
        "  Describe a scenario where using a tuple would be preferable over a list.\n",
        "\n",
        "  -> Using a tuple is preferable over a list in scenarios where the data should remain constant throughout the program execution. For example, consider a configuration file that stores setup settings or constant values.\n",
        "\n",
        "  tuples are more memory-efficient and faster to access than lists because they are immutable, allowing Python to allocate a single contiguous block of memory for the data.\n",
        "\n",
        "  How do sets handle duplicate values in Python?\n",
        "\n",
        "  -> Sets in Python are implemented using hash tables, which allows for efficient insertion and checking of membership. When you add an item to a set, Python checks if the item already exists by hashing the item. If the item is already present, it is not added again, ensuring that sets do not contain duplicates.\n",
        "\n",
        " How does the “in” keyword work differently for lists and dictionaries?\n",
        "\n",
        " -> Lists are linear in nature whereas dictionaries stored the data in key-value pairs. So \"in\" keyword checks if given element is present in list by iterating through list. If it is present, it will return \"True\" otherwise \"False\".\n",
        "\n",
        " On the other hand, \"in\" keyword checks for keys in dictionaries. If it is present, it will return \"True\" otherwise \"False\".\n",
        "\n",
        "  Can you modify the elements of a tuple? Explain why or why not?\n",
        "\n",
        "  -> No, the elements of a tuple can't be modified after its creation as it is immutable data type.\n",
        "\n",
        "  What is a nested dictionary, and give an example of its use case?\n",
        "\n",
        "  -> Dictionary inside a dictionary is called nested dictionary.\n",
        "\n",
        "  Example of its use case :\n",
        "\n",
        "  company = {\n",
        "    \"Sales\": {\n",
        "        101: {\"name\": \"Alice\", \"role\": \"Manager\", \"salary\": 75000},\n",
        "    },\n",
        "\n",
        "    \"IT\": {\n",
        "        201: {\"name\": \"Charlie\", \"role\": \"Developer\", \"salary\": 80000},\n",
        "    },\n",
        "\n",
        "    \"HR\": {\n",
        "        301: {\"name\": \"Eve\", \"role\": \"HR Manager\", \"salary\": 65000}\n",
        "    }\n",
        "}\n",
        "\n",
        "Describe the time complexity of accessing elements in a dictionary.\n",
        "\n",
        "-> Accessing an element in a dictionary using a key has O(1) (constant time) complexity as dictionary lookups are done using direct hashing (not sequential searching), they do not depend on the number of elements.\n",
        "\n",
        " In what situations are lists preferred over dictionaries?\n",
        "\n",
        " -> In following situations are lists preferred over dictionaries :\n",
        "\n",
        "- Ordered elements .\n",
        "- Indexed access (using numbers).\n",
        "- Duplicate values.\n",
        "- Sorting and iteration efficiency.\n",
        "- Less memory consumption.\n",
        "\n",
        "Why are dictionaries considered unordered, and how does that affect data retrieval?\n",
        "\n",
        "-> Dictionaries are considered unordered because it stores data in key-value pairs which can't be accessed through index. Data retrieval is done through keys, ensuring efficient access but without reliance on the order of the elements.\n",
        "\n",
        "Explain the difference between a list and a dictionary in terms of data retrieval.\n",
        "\n",
        "-> Lists are ordered collections where elements are stored in a sequential manner. Each item in the list has an index and data can be accessed elements using these indices.\n",
        "\n",
        "On the other hand, in dictionaries data retrieval is done through keys, ensuring efficient access but without reliance on the order of the elements.\n"
      ],
      "metadata": {
        "id": "1SWfZgD-5vjf"
      }
    },
    {
      "cell_type": "markdown",
      "source": [
        "# Practical Questions"
      ],
      "metadata": {
        "id": "pyzONCSq1EVz"
      }
    },
    {
      "cell_type": "code",
      "execution_count": 1,
      "metadata": {
        "id": "MJ80asgP5UKD",
        "colab": {
          "base_uri": "https://localhost:8080/"
        },
        "outputId": "7ba84a6c-1b88-437b-8fcf-a9018fb339cf"
      },
      "outputs": [
        {
          "output_type": "stream",
          "name": "stdout",
          "text": [
            "Hello, My name is Preeti\n"
          ]
        }
      ],
      "source": [
        "# Write a code to create a string with your name and print it\n",
        "name = \"Preeti\"\n",
        "print(f\"Hello, My name is Preeti\")"
      ]
    },
    {
      "cell_type": "code",
      "source": [
        "# Write a code to find the length of the string \"Hello World\"\n",
        "string = \"Hello World\"\n",
        "print(f\"length of string is {len(string)}\")"
      ],
      "metadata": {
        "colab": {
          "base_uri": "https://localhost:8080/"
        },
        "id": "xG_Glv-P3220",
        "outputId": "900d7486-d905-4108-924c-289c681cde70"
      },
      "execution_count": 2,
      "outputs": [
        {
          "output_type": "stream",
          "name": "stdout",
          "text": [
            "length of string is 11\n"
          ]
        }
      ]
    },
    {
      "cell_type": "code",
      "source": [
        "# Write a code to slice the first 3 characters from the string \"Python Programming\"\n",
        "string = \"Python Programming\"\n",
        "print(string[:3])"
      ],
      "metadata": {
        "colab": {
          "base_uri": "https://localhost:8080/"
        },
        "id": "4Ya9Kf7m4Di6",
        "outputId": "49021eaf-6922-40c5-fa0b-bcec8fa78a0e"
      },
      "execution_count": 3,
      "outputs": [
        {
          "output_type": "stream",
          "name": "stdout",
          "text": [
            "Pyt\n"
          ]
        }
      ]
    },
    {
      "cell_type": "code",
      "source": [
        "# Write a code to convert the string \"hello\" to uppercase\n",
        "string = \"hello\"\n",
        "print(string.upper())"
      ],
      "metadata": {
        "colab": {
          "base_uri": "https://localhost:8080/"
        },
        "id": "1ZY-Y5lc4Vje",
        "outputId": "d60daf30-2dee-4347-a2e1-62cd27f7abe3"
      },
      "execution_count": 4,
      "outputs": [
        {
          "output_type": "stream",
          "name": "stdout",
          "text": [
            "HELLO\n"
          ]
        }
      ]
    },
    {
      "cell_type": "code",
      "source": [
        "#  Write a code to replace the word \"apple\" with \"orange\" in the string \"I like apple\"\n",
        "string =  \"I like apple\"\n",
        "print(string.replace(\"apple\",\"orange\"))"
      ],
      "metadata": {
        "colab": {
          "base_uri": "https://localhost:8080/"
        },
        "id": "fjkZh1iB4jm8",
        "outputId": "90554742-35e1-4dd1-f0e4-6cc8583c7046"
      },
      "execution_count": 7,
      "outputs": [
        {
          "output_type": "stream",
          "name": "stdout",
          "text": [
            "I like orange\n"
          ]
        }
      ]
    },
    {
      "cell_type": "code",
      "source": [
        "# Write a code to create a list with numbers 1 to 5 and print it\n",
        "my_list = [1,2,3,4,5]\n",
        "print(my_list)"
      ],
      "metadata": {
        "colab": {
          "base_uri": "https://localhost:8080/"
        },
        "id": "ViX4j56m4vwB",
        "outputId": "2b13ddb7-4c52-42e4-bfe8-9264f2ff9de2"
      },
      "execution_count": 9,
      "outputs": [
        {
          "output_type": "stream",
          "name": "stdout",
          "text": [
            "[1, 2, 3, 4, 5]\n"
          ]
        }
      ]
    },
    {
      "cell_type": "code",
      "source": [
        "# Write a code to append the number 10 to the list [1, 2, 3, 4]\n",
        "my_list = [1, 2, 3, 4]\n",
        "my_list.append(10)\n",
        "print(my_list)"
      ],
      "metadata": {
        "colab": {
          "base_uri": "https://localhost:8080/"
        },
        "id": "SiZUFV6E5HTL",
        "outputId": "e4e94230-133f-4d63-c4b9-84ff67a25800"
      },
      "execution_count": 11,
      "outputs": [
        {
          "output_type": "stream",
          "name": "stdout",
          "text": [
            "[1, 2, 3, 4, 10]\n"
          ]
        }
      ]
    },
    {
      "cell_type": "code",
      "source": [
        "# Write a code to remove the number 3 from the list [1, 2, 3, 4, 5]\n",
        "my_list = [1, 2, 3, 4, 5]\n",
        "my_list.remove(3)\n",
        "print(\"New list after removing 3 is\",my_list)"
      ],
      "metadata": {
        "colab": {
          "base_uri": "https://localhost:8080/"
        },
        "id": "Lsc7lEhH5c09",
        "outputId": "19d0e7f0-65ed-4fa6-db55-9a2a801623c5"
      },
      "execution_count": 15,
      "outputs": [
        {
          "output_type": "stream",
          "name": "stdout",
          "text": [
            "New list after removing 3 is [1, 2, 4, 5]\n"
          ]
        }
      ]
    },
    {
      "cell_type": "code",
      "source": [
        "# Write a code to access the second element in the list ['a', 'b', 'c', 'd']\n",
        "my_list = ['a', 'b', 'c', 'd']\n",
        "print(\"second element is\",my_list[1])"
      ],
      "metadata": {
        "colab": {
          "base_uri": "https://localhost:8080/"
        },
        "id": "uliZoIx25wfS",
        "outputId": "24334d30-d0d5-423f-942b-71842c4f512b"
      },
      "execution_count": 17,
      "outputs": [
        {
          "output_type": "stream",
          "name": "stdout",
          "text": [
            "second element is b\n"
          ]
        }
      ]
    },
    {
      "cell_type": "code",
      "source": [
        "# Write a code to reverse the list [10, 20, 30, 40, 50].\n",
        "my_list = [10, 20, 30, 40, 50]\n",
        "my_list.reverse()\n",
        "print(my_list)"
      ],
      "metadata": {
        "colab": {
          "base_uri": "https://localhost:8080/"
        },
        "id": "oTnNlJpG6Gsx",
        "outputId": "1642faee-82cb-4717-8df1-49a6ad7bb51e"
      },
      "execution_count": 18,
      "outputs": [
        {
          "output_type": "stream",
          "name": "stdout",
          "text": [
            "[50, 40, 30, 20, 10]\n"
          ]
        }
      ]
    },
    {
      "cell_type": "code",
      "source": [
        "#  Write a code to create a tuple with the elements 100, 200, 300 and print it.\n",
        "my_tuple = (100, 200, 300)\n",
        "print(my_tuple)"
      ],
      "metadata": {
        "colab": {
          "base_uri": "https://localhost:8080/"
        },
        "id": "zKvzwvb16kBr",
        "outputId": "6129a640-b525-4e07-cb52-db3219e4337f"
      },
      "execution_count": 19,
      "outputs": [
        {
          "output_type": "stream",
          "name": "stdout",
          "text": [
            "(100, 200, 300)\n"
          ]
        }
      ]
    },
    {
      "cell_type": "code",
      "source": [
        "# Write a code to access the second-to-last element of the tuple ('red', 'green', 'blue', 'yellow').\n",
        "my_tuple =  ('red', 'green', 'blue', 'yellow')\n",
        "print(\"second-to-last element of the tuple is\",my_tuple[1:])"
      ],
      "metadata": {
        "colab": {
          "base_uri": "https://localhost:8080/"
        },
        "id": "6NU2iHz-6xwY",
        "outputId": "44c55764-e55b-47ea-8e38-c50a08304dda"
      },
      "execution_count": 21,
      "outputs": [
        {
          "output_type": "stream",
          "name": "stdout",
          "text": [
            "second-to-last element of the tuple is ('green', 'blue', 'yellow')\n"
          ]
        }
      ]
    },
    {
      "cell_type": "code",
      "source": [
        "# Write a code to find the minimum number in the tuple (10, 20, 5, 15).\n",
        "my_tuple = (10, 20, 5, 15)\n",
        "print(\"the minimum number in the tuple is\",min(my_tuple))\n"
      ],
      "metadata": {
        "colab": {
          "base_uri": "https://localhost:8080/"
        },
        "id": "so9BcL7u6_Ca",
        "outputId": "6900b040-3926-4865-c15c-0a6cba02bfa9"
      },
      "execution_count": 28,
      "outputs": [
        {
          "output_type": "stream",
          "name": "stdout",
          "text": [
            "the minimum number in the tuple is 5\n"
          ]
        }
      ]
    },
    {
      "cell_type": "code",
      "source": [
        "# Write a code to find the index of the element \"cat\" in the tuple ('dog', 'cat', 'rabbit').\n",
        "my_tuple = ('dog', 'cat', 'rabbit')\n",
        "try:\n",
        " print(my_tuple.index(\"cat\"))\n",
        "except ValueError:\n",
        "  print(\"cat is not present in tuple\")"
      ],
      "metadata": {
        "colab": {
          "base_uri": "https://localhost:8080/"
        },
        "id": "YSEqQHcy7Whg",
        "outputId": "6917c2a1-5aca-46ba-ee24-de1b8582891d"
      },
      "execution_count": 33,
      "outputs": [
        {
          "output_type": "stream",
          "name": "stdout",
          "text": [
            "1\n"
          ]
        }
      ]
    },
    {
      "cell_type": "code",
      "source": [
        "# Write a code to create a tuple containing three different fruits and check if \"kiwi\" is in it.\n",
        "my_tuple = (\"apple\", \"banana\",\"mangoes\")\n",
        "if \"kiwi\" in my_tuple:\n",
        "  print(\"Yes, kiwi is present in tuple\")\n",
        "else:\n",
        "  print(\"No, kiwi is not present in tuple\")"
      ],
      "metadata": {
        "colab": {
          "base_uri": "https://localhost:8080/"
        },
        "id": "M5xqkVhY8KiR",
        "outputId": "e40c7625-a986-44dc-e824-d1d55ee1c65f"
      },
      "execution_count": 36,
      "outputs": [
        {
          "output_type": "stream",
          "name": "stdout",
          "text": [
            "No, kiwi is not present in tuple\n"
          ]
        }
      ]
    },
    {
      "cell_type": "code",
      "source": [
        "# Write a code to create a set with the elements 'a', 'b', 'c' and print it.\n",
        "my_set = {'a', 'b', 'c'}\n",
        "print(my_set)"
      ],
      "metadata": {
        "colab": {
          "base_uri": "https://localhost:8080/"
        },
        "id": "YmM6zDUR9Y8k",
        "outputId": "3f53ba0c-31ae-4e50-d27b-736479fd073d"
      },
      "execution_count": 37,
      "outputs": [
        {
          "output_type": "stream",
          "name": "stdout",
          "text": [
            "{'c', 'a', 'b'}\n"
          ]
        }
      ]
    },
    {
      "cell_type": "code",
      "source": [
        "# Write a code to clear all elements from the set {1, 2, 3, 4, 5}.\n",
        "my_set = {1, 2, 3, 4, 5}\n",
        "my_set.clear()\n",
        "print(my_set)"
      ],
      "metadata": {
        "colab": {
          "base_uri": "https://localhost:8080/"
        },
        "id": "QUTsQFQc9nQd",
        "outputId": "b25b45d1-020a-47ac-a64f-ea4db2c19273"
      },
      "execution_count": 40,
      "outputs": [
        {
          "output_type": "stream",
          "name": "stdout",
          "text": [
            "set()\n"
          ]
        }
      ]
    },
    {
      "cell_type": "code",
      "source": [
        "# Write a code to remove the element 4 from the set {1, 2, 3, 4}.\n",
        "my_set = {1, 2, 3, 4}\n",
        "my_set.remove(4)\n",
        "print(\"set after removing element 4 is\",my_set)\n"
      ],
      "metadata": {
        "colab": {
          "base_uri": "https://localhost:8080/"
        },
        "id": "Ycwdd8WF9x_K",
        "outputId": "06e04036-0d7e-4632-b854-a62d828ae62b"
      },
      "execution_count": 43,
      "outputs": [
        {
          "output_type": "stream",
          "name": "stdout",
          "text": [
            "set after removing element 4 is {1, 2, 3}\n"
          ]
        }
      ]
    },
    {
      "cell_type": "code",
      "source": [
        "# Write a code to find the union of two sets {1, 2, 3} and {3, 4, 5}.\n",
        "set1 = {1, 2, 3}\n",
        "set2 = {3, 4, 5}\n",
        "union = set1 | set2\n",
        "print(f\"union of {set1} and {set2} is {union}\")"
      ],
      "metadata": {
        "colab": {
          "base_uri": "https://localhost:8080/"
        },
        "id": "Z7rjL4xA-GAy",
        "outputId": "9f206dda-59e9-4b62-c77b-af67ed342312"
      },
      "execution_count": 44,
      "outputs": [
        {
          "output_type": "stream",
          "name": "stdout",
          "text": [
            "union of {1, 2, 3} and {3, 4, 5} is {1, 2, 3, 4, 5}\n"
          ]
        }
      ]
    },
    {
      "cell_type": "code",
      "source": [
        "# Write a code to find the intersection of two sets {1, 2, 3} and {2, 3, 4}.\n",
        "set1 = {1, 2, 3}\n",
        "set2 = {2, 3, 4}\n",
        "intersection = set1 & set2\n",
        "print(f\"intersection of {set1} and {set2} is {intersection}\")"
      ],
      "metadata": {
        "colab": {
          "base_uri": "https://localhost:8080/"
        },
        "id": "YE9PUMAK-jeB",
        "outputId": "9e3210ce-289d-4ebd-a08d-3c4a1283ea7e"
      },
      "execution_count": 46,
      "outputs": [
        {
          "output_type": "stream",
          "name": "stdout",
          "text": [
            "intersection of {1, 2, 3} and {2, 3, 4} is {2, 3}\n"
          ]
        }
      ]
    },
    {
      "cell_type": "code",
      "source": [
        "# Write a code to create a dictionary with the keys \"name\", \"age\", and \"city\", and print it.\n",
        "my_dict = {\"name\": \"Ram\", \"age\": 23, \"city\": \"Birgunj\"}\n",
        "print(my_dict)"
      ],
      "metadata": {
        "colab": {
          "base_uri": "https://localhost:8080/"
        },
        "id": "0bPFXXQu-w7g",
        "outputId": "d73d05bc-cb3b-4017-cfe4-155b12dd7956"
      },
      "execution_count": 47,
      "outputs": [
        {
          "output_type": "stream",
          "name": "stdout",
          "text": [
            "{'name': 'Ram', 'age': 23, 'city': 'Birgunj'}\n"
          ]
        }
      ]
    },
    {
      "cell_type": "code",
      "source": [
        "# Write a code to add a new key-value pair \"country\": \"USA\" to the dictionary {'name': 'John', 'age': 25}.\n",
        "my_dict = {'name': 'John', 'age': 25}\n",
        "my_dict[\"country\"] = \"USA\"\n",
        "print(my_dict)"
      ],
      "metadata": {
        "colab": {
          "base_uri": "https://localhost:8080/"
        },
        "id": "2t8zkWTF_Hsu",
        "outputId": "a51a852d-ffc6-488f-d1c0-165a15bc2658"
      },
      "execution_count": 49,
      "outputs": [
        {
          "output_type": "stream",
          "name": "stdout",
          "text": [
            "{'name': 'John', 'age': 25, 'country': 'USA'}\n"
          ]
        }
      ]
    },
    {
      "cell_type": "code",
      "source": [
        "# Write a code to access the value associated with the key \"name\" in the dictionary {'name': 'Alice', 'age': 30}.\n",
        "my_dict = {'name': 'Alice', 'age': 30}\n",
        "print(my_dict[\"name\"])"
      ],
      "metadata": {
        "colab": {
          "base_uri": "https://localhost:8080/"
        },
        "id": "0eCS0yWi_aYn",
        "outputId": "b924e750-1482-4184-fc22-10cbe96e9290"
      },
      "execution_count": 50,
      "outputs": [
        {
          "output_type": "stream",
          "name": "stdout",
          "text": [
            "Alice\n"
          ]
        }
      ]
    },
    {
      "cell_type": "code",
      "source": [
        "# Write a code to remove the key \"age\" from the dictionary {'name': 'Bob', 'age': 22, 'city': 'New York'}.\n",
        "my_dict = {'name': 'Bob', 'age': 22, 'city': 'New York'}\n",
        "del my_dict[\"age\"]\n",
        "print(my_dict)"
      ],
      "metadata": {
        "colab": {
          "base_uri": "https://localhost:8080/"
        },
        "id": "w3dmRa4wAJRU",
        "outputId": "b82f9003-d039-460f-d917-f5fc0422e44a"
      },
      "execution_count": 52,
      "outputs": [
        {
          "output_type": "stream",
          "name": "stdout",
          "text": [
            "{'name': 'Bob', 'city': 'New York'}\n"
          ]
        }
      ]
    },
    {
      "cell_type": "code",
      "source": [
        "# Write a code to check if the key \"city\" exists in the dictionary {'name': 'Alice', 'city': 'Paris'}.\n",
        "my_dict = {'name': 'Alice', 'city': 'Paris'}\n",
        "if \"city\" in my_dict:\n",
        "  print(my_dict)\n",
        "else :\n",
        "  print('city does not exist')"
      ],
      "metadata": {
        "colab": {
          "base_uri": "https://localhost:8080/"
        },
        "id": "FMl9_F_MAYYR",
        "outputId": "fe3198a1-89f0-4aae-8852-537f69175242"
      },
      "execution_count": 56,
      "outputs": [
        {
          "output_type": "stream",
          "name": "stdout",
          "text": [
            "{'name': 'Alice', 'city': 'Paris'}\n"
          ]
        }
      ]
    },
    {
      "cell_type": "code",
      "source": [
        "# Write a code to create a list, a tuple, and a dictionary, and print them all.\n",
        "my_list = [1, 2, 3, 4, 5]\n",
        "print(my_list)\n",
        "my_tuple = (100, 200, 300)\n",
        "print(my_tuple)\n",
        "my_dict = {'name': 'Alice', 'age': 30}\n",
        "print(my_dict)\n"
      ],
      "metadata": {
        "colab": {
          "base_uri": "https://localhost:8080/"
        },
        "id": "_rU1oLASBJhz",
        "outputId": "c38868cf-8ded-4bb2-c29d-18ad60fc150d"
      },
      "execution_count": 58,
      "outputs": [
        {
          "output_type": "stream",
          "name": "stdout",
          "text": [
            "[1, 2, 3, 4, 5]\n",
            "(100, 200, 300)\n",
            "{'name': 'Alice', 'age': 30}\n"
          ]
        }
      ]
    },
    {
      "cell_type": "code",
      "source": [
        "#  Write a code to create a list of 5 random numbers between 1 and 100, sort it in ascending order, and print the result.(replaced)\n",
        "my_list = [5, 30, 44, 55, 12]\n",
        "print(sorted(my_list))\n"
      ],
      "metadata": {
        "colab": {
          "base_uri": "https://localhost:8080/"
        },
        "id": "3d8dY0wlBy8E",
        "outputId": "28fcef57-ca0e-44f5-ec94-d7d8cf5ec32a"
      },
      "execution_count": 60,
      "outputs": [
        {
          "output_type": "stream",
          "name": "stdout",
          "text": [
            "[5, 12, 30, 44, 55]\n"
          ]
        }
      ]
    },
    {
      "cell_type": "code",
      "source": [
        "# Write a code to create a list with strings and print the element at the third index.\n",
        "my_list = [\"mangoes\", \"kiwi\", \"guavas\", \"oranges\"]\n",
        "print(my_list[3])"
      ],
      "metadata": {
        "colab": {
          "base_uri": "https://localhost:8080/"
        },
        "id": "WsCe7C7LCvmJ",
        "outputId": "2cf82412-9aab-4d92-876f-1c3be7904a2c"
      },
      "execution_count": 63,
      "outputs": [
        {
          "output_type": "stream",
          "name": "stdout",
          "text": [
            "oranges\n"
          ]
        }
      ]
    },
    {
      "cell_type": "code",
      "source": [
        "# Write a code to combine two dictionaries into one and print the result.\n",
        "my_dict1 = {\"emp_id\": 2, \"name\": \"Ram\", \"dept\": \"finance\"}\n",
        "my_dict2 = {\"designation\": \"manager\", \"salary\": 30000}\n",
        "print(my_dict1 | my_dict2)"
      ],
      "metadata": {
        "colab": {
          "base_uri": "https://localhost:8080/"
        },
        "id": "cAevH-7TDKBu",
        "outputId": "ff1286cc-840d-4d0a-a75e-9e7c4921849e"
      },
      "execution_count": 65,
      "outputs": [
        {
          "output_type": "stream",
          "name": "stdout",
          "text": [
            "{'emp_id': 2, 'name': 'Ram', 'dept': 'finance', 'designation': 'manager', 'salary': 30000}\n"
          ]
        }
      ]
    },
    {
      "cell_type": "code",
      "source": [
        "#  Write a code to convert a list of strings into a set.\n",
        "my_list = [\"mangoes\", \"kiwi\", \"guavas\", \"oranges\", \"mangoes\"]\n",
        "print(set(my_list))"
      ],
      "metadata": {
        "colab": {
          "base_uri": "https://localhost:8080/"
        },
        "id": "uYCuaWZ1EKDg",
        "outputId": "fe91a3e2-c580-41ce-ccd0-1d5e6d9f5d8d"
      },
      "execution_count": 66,
      "outputs": [
        {
          "output_type": "stream",
          "name": "stdout",
          "text": [
            "{'guavas', 'kiwi', 'mangoes', 'oranges'}\n"
          ]
        }
      ]
    },
    {
      "cell_type": "code",
      "source": [],
      "metadata": {
        "id": "VBhiFcdyFYve"
      },
      "execution_count": null,
      "outputs": []
    }
  ]
}